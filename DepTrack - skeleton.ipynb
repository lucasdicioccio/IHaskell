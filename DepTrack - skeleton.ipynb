{
 "cells": [
  {
   "cell_type": "code",
   "execution_count": 3,
   "metadata": {},
   "outputs": [],
   "source": [
    "import DepTrack\n",
    "import Control.Monad.Identity (Identity, runIdentity)\n",
    "\n",
    "import DepTrack.Dot\n",
    "import qualified Data.ByteString.Char8 as Char8\n",
    "import IHaskell.Display.Graphviz (dot,RankDir(..))"
   ]
  },
  {
   "cell_type": "code",
   "execution_count": 4,
   "metadata": {},
   "outputs": [],
   "source": [
    "data Node = Val String\n",
    "  deriving (Show,Ord,Eq)\n",
    "\n",
    "nodeId :: Node -> String\n",
    "nodeId = show\n",
    "\n",
    "nodeLabels :: Node -> [(String,String)]\n",
    "nodeLabels (Val v) = [(\"label\",v)]\n",
    "\n",
    "type D x = DepTrackT x Identity\n",
    "type P = D Node\n",
    "\n",
    "go = dot LeftToRight . Char8.pack . getDotDescription . runIdentity . dotify nodeLabels nodeId"
   ]
  },
  {
   "cell_type": "code",
   "execution_count": null,
   "metadata": {},
   "outputs": [],
   "source": []
  }
 ],
 "metadata": {
  "kernelspec": {
   "display_name": "Haskell",
   "language": "haskell",
   "name": "haskell"
  },
  "language_info": {
   "codemirror_mode": "ihaskell",
   "file_extension": ".hs",
   "name": "haskell",
   "pygments_lexer": "Haskell",
   "version": "8.2.2"
  }
 },
 "nbformat": 4,
 "nbformat_minor": 2
}
